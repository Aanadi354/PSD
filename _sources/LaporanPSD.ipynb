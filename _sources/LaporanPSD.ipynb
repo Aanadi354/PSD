{
 "cells": [
  {
   "cell_type": "markdown",
   "metadata": {},
   "source": [
    "<div align=\"center\" >\n",
    "<h1><b>Optimasi Strategi Pemasaran dan Layanan Berdasarkan Data Pengunjung di PT Taman Wisata Candi Borobudur, Prambanan & Ratu Boko</h1></b>\n",
    "\n",
    "\n",
    "<img src=\"https://upload.wikimedia.org/wikipedia/commons/f/f1/UTM_DIKBUDRISTEK.png\" alt=\"logo utm\" width=\"400\">\n",
    "\n",
    "\n",
    "\n",
    "\n",
    "Disusun oleh:\n",
    "\n",
    "Aan Adi Setiyawan\n",
    "220411100032\n",
    "\n",
    "\n",
    "\n",
    "</div> <div align=\"center\"><h2><b>\n",
    "BAB I\n",
    "\n",
    "PENDAHULUAN</h2></b>\n",
    "</div>\n",
    "\n",
    "\n",
    "\n",
    "### **1.1\tLatar Belakang**\n",
    "\n",
    "<p>&nbsp;</p>\n",
    "\n",
    "<p style=\"text-align: justify;\">PT Taman Wisata Candi Borobudur, Prambanan & Ratu Boko (Persero) adalah perusahaan yang mengelola tiga situs wisata budaya terbesar di Indonesia: Candi Borobudur, Candi Prambanan, dan Candi Ratu Boko. Sebagai perusahaan pariwisata budaya, visi mereka adalah melestarikan dan mempromosikan warisan budaya dunia sambil mendukung pertumbuhan ekonomi melalui pariwisata. Misinya adalah memberikan pengalaman wisata yang edukatif dan inspiratif bagi semua pengunjung, serta menjaga kelestarian situs-situs bersejarah agar tetap bisa dinikmati oleh generasi mendatang.</p>\n",
    "\n",
    "Untuk mencapai visi dan misi tersebut, perusahaan mengadopsi strategi bisnis yang fokus pada modernisasi pengalaman wisata. Ini termasuk digitalisasi tiket, promosi aktif di media sosial, serta kolaborasi dengan agen perjalanan guna memperluas jangkauan ke wisatawan domestik dan internasional. Meskipun berfokus pada teknologi, mereka tetap menghargai aspek tradisi dan spiritual dari candi-candi tersebut. Target utama bisnis adalah meningkatkan kunjungan wisatawan sebesar 15% dalam satu tahun, dengan penekanan pada wisatawan mancanegara dan generasi muda. Dalam jangka panjang, perusahaan ingin menjadikan candi-candi ini sebagai destinasi wisata budaya yang kompetitif di tingkat global.\n",
    "\n",
    "Tujuan bisnis mereka meliputi peningkatan kepuasan pengunjung dengan menganalisis perilaku wisatawan, memperbaiki fasilitas, serta menawarkan paket wisata yang lebih beragam. Dengan menggunakan data seperti rating pengunjung, asal daerah, dan usia, perusahaan dapat lebih memahami preferensi wisatawan dan merancang strategi pemasaran serta pelayanan yang lebih tepat. Hal ini diharapkan dapat meningkatkan loyalitas pengunjung, memperluas pasar, dan memastikan operasional yang berkelanjutan.\n",
    "\n",
    "\n",
    "### **1.2\tTujuan**\n",
    "\n",
    "Analisis data memainkan peran kunci dalam mendukung pencapaian visi, misi, strategi bisnis, dan target PT Taman Wisata Candi Borobudur, Prambanan & Ratu Boko (Persero). Dengan memanfaatkan data tentang rating pengunjung, asal wilayah, dan usia, perusahaan bisa mendapatkan wawasan mendalam mengenai preferensi dan perilaku wisatawan. Ini memungkinkan mereka untuk membuat keputusan yang lebih tepat dalam meningkatkan pengalaman wisata, baik dari segi pelayanan maupun fasilitas. Dengan memahami data ini, perusahaan dapat mengadaptasi strategi mereka agar tetap relevan di pasar global dan meningkatkan kepuasan pengunjung.\n",
    "\n",
    "Selain itu, analisis data membantu perusahaan dalam mengidentifikasi segmen pengunjung yang paling potensial. Misalnya, dengan memeriksa asal wilayah dan usia, perusahaan dapat merancang kampanye pemasaran yang lebih terarah, misalnya untuk wisatawan mancanegara dengan rating tinggi atau generasi muda yang menginginkan pengalaman modern. Data ini juga mendukung upaya jangka panjang perusahaan untuk meningkatkan loyalitas pengunjung dan memperluas pasar dengan merancang paket wisata yang sesuai dengan kebutuhan berbagai segmen, baik lokal maupun internasional. Dengan demikian, analisis data mendukung pengambilan keputusan strategis yang berfokus pada keberlanjutan bisnis dan pelestarian warisan budaya.\n",
    "\n",
    "Maka dari itu, dapat disimpulkan bahwa tujuan dari analisis data ini adalah sebagai berikut :\n",
    "1.\tMendapatkan wawasan mendalam tentang preferensi dan perilaku wisatawan.\n",
    "2.\tMeningkatkan pengalaman wisata dengan penyesuaian pelayanan dan fasilitas.\n",
    "3.\tMengidentifikasi segmen pengunjung yang paling potensial untuk pemasaran yang efektif.\n",
    "4.\tMerancang kampanye pemasaran yang lebih terarah.\n",
    "5.\tMeningkatkan kepuasan pengunjung dan relevansi destinasi wisata.\n",
    "6.\tMeningkatkan loyalitas pengunjung dan memperluas pasar.\n",
    "7.\tMerancang paket wisata yang sesuai dengan kebutuhan setiap segmen.\n",
    "8.\tMendukung keberlanjutan bisnis dan pelestarian warisan budaya.\n",
    "\n",
    "### **1.3\tRumusan Masalah**\n",
    "\n",
    "Dari latar belakang yang sudah dipaparkan sebelumnya, penulis mendapatkan beberapa rumusan masalah, antara lain:\n",
    "1.\tBagaimana pengaruh rating pengunjung terhadap kepuasan dan pengalaman wisata di PT Taman Wisata Candi Borobudur, Prambanan & Ratu Boko (Persero)?\n",
    "2.\tBagaimana pola asal pengunjung dapat mempengaruhi strategi pemasaran yang diterapkan oleh PT Taman Wisata Candi Borobudur, Prambanan & Ratu Boko (Persero)?\n",
    "3.\tBagaimana hubungan antara rating pengunjung dan demografi mereka (usia dan asal) dapat digunakan untuk meningkatkan layanan dan fasilitas di PT Taman Wisata Candi Borobudur, Prambanan & Ratu Boko (Persero)?\n",
    "\n"
   ]
  }
 ],
 "metadata": {
  "kernelspec": {
   "display_name": "Python 3",
   "language": "python",
   "name": "python3"
  },
  "language_info": {
   "codemirror_mode": {
    "name": "ipython",
    "version": 3
   },
   "file_extension": ".py",
   "mimetype": "text/x-python",
   "name": "python",
   "nbconvert_exporter": "python",
   "pygments_lexer": "ipython3",
   "version": "3.8.0"
  },
  "widgets": {
   "application/vnd.jupyter.widget-state+json": {
    "state": {},
    "version_major": 2,
    "version_minor": 0
   }
  }
 },
 "nbformat": 4,
 "nbformat_minor": 4
}
